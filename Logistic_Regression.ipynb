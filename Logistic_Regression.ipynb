{
 "cells": [
  {
   "cell_type": "code",
   "execution_count": 1,
   "id": "665b0033-a007-4253-8d86-0916645f593e",
   "metadata": {},
   "outputs": [],
   "source": [
    "import numpy as np"
   ]
  },
  {
   "cell_type": "code",
   "execution_count": 7,
   "id": "556c7406-9173-4b99-9218-a995220ad7e7",
   "metadata": {},
   "outputs": [],
   "source": [
    "class LogisticRegression():\n",
    "    def __init__(self,learning_rate=0.01,num_iterations=1000):\n",
    "        self.learning_rate = learning_rate\n",
    "        self.num_iterations = num_iterations\n",
    "        self.w = None\n",
    "        self.b = None\n",
    "\n",
    "    def sigmoid(self,z):\n",
    "        return 1/(1+np.exp(-z))\n",
    "\n",
    "    def gradientDescent(self,X,y):\n",
    "        m,n = X.shape\n",
    "\n",
    "        for _ in range(self.num_iterations):\n",
    "            y_pred = self.sigmoid(np.dot(X, self.w) + self.b)\n",
    "            error = y_pred - y\n",
    "\n",
    "            dw = (1/m)*np.dot(X.T,error)\n",
    "            db = (1/m)*np.sum(error)\n",
    "\n",
    "            self.w -= self.learning_rate*dw\n",
    "            self.b -= self.learning_rate*db\n",
    "\n",
    "    def fit(self,X,y):\n",
    "        m, n = X.shape\n",
    "        self.w = np.zeros(n)\n",
    "        self.b = 0\n",
    "\n",
    "        self.gradientDescent(X,y)\n",
    "\n",
    "    def predict(self,X):\n",
    "        pred = self.sigmoid(np.dot(X,self.w)+self.b)\n",
    "        return (pred >= 0.5).astype(int)"
   ]
  },
  {
   "cell_type": "code",
   "execution_count": 8,
   "id": "9693f1fc-6931-4e11-b4b2-218f6fe1a0f8",
   "metadata": {},
   "outputs": [],
   "source": [
    "# Example dataset: Simple logical AND operation\n",
    "X = np.array([[0, 0], [0, 1], [1, 0], [1, 1]])  # Input features\n",
    "y = np.array([0, 0, 0, 1])  # Labels for AND operation\n",
    "\n",
    "    # Initialize logistic regression model\n",
    "model = LogisticRegression(learning_rate=0.1, num_iterations=1000)"
   ]
  },
  {
   "cell_type": "code",
   "execution_count": 9,
   "id": "5bf2573b-4917-4669-b4f3-709225331d8c",
   "metadata": {},
   "outputs": [],
   "source": [
    "model.fit(X, y)"
   ]
  },
  {
   "cell_type": "code",
   "execution_count": 10,
   "id": "eb4e9208-7a9e-4f19-b552-ca9d4ce67893",
   "metadata": {},
   "outputs": [
    {
     "name": "stdout",
     "output_type": "stream",
     "text": [
      "Learned weights: [3.03763559 3.03763559]\n",
      "Learned bias: -4.773702236905248\n"
     ]
    }
   ],
   "source": [
    "print(f\"Learned weights: {model.w}\")\n",
    "print(f\"Learned bias: {model.b}\")"
   ]
  },
  {
   "cell_type": "code",
   "execution_count": 11,
   "id": "f5149908-cb22-4713-8c9a-71651eff769a",
   "metadata": {},
   "outputs": [
    {
     "name": "stdout",
     "output_type": "stream",
     "text": [
      "Predictions: [0 0 0 1]\n"
     ]
    }
   ],
   "source": [
    "predictions = model.predict(X)\n",
    "print(f\"Predictions: {predictions}\")"
   ]
  },
  {
   "cell_type": "code",
   "execution_count": null,
   "id": "0715cdc0-4797-4378-bc50-9be1748b96ab",
   "metadata": {},
   "outputs": [],
   "source": []
  }
 ],
 "metadata": {
  "kernelspec": {
   "display_name": "Python 3 (ipykernel)",
   "language": "python",
   "name": "python3"
  },
  "language_info": {
   "codemirror_mode": {
    "name": "ipython",
    "version": 3
   },
   "file_extension": ".py",
   "mimetype": "text/x-python",
   "name": "python",
   "nbconvert_exporter": "python",
   "pygments_lexer": "ipython3",
   "version": "3.10.13"
  }
 },
 "nbformat": 4,
 "nbformat_minor": 5
}
