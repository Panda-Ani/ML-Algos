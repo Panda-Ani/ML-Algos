{
 "cells": [
  {
   "cell_type": "code",
   "execution_count": 1,
   "id": "f2735b89-a93c-4c8d-b0f6-155faead2237",
   "metadata": {},
   "outputs": [],
   "source": [
    "import numpy as np"
   ]
  },
  {
   "cell_type": "code",
   "execution_count": 32,
   "id": "8d8adf83-a61a-47d2-911a-ef125c5dcde5",
   "metadata": {},
   "outputs": [],
   "source": [
    "class LinearRegression:\n",
    "    def __init__(self, learning_rate, n_iterations):\n",
    "        self.learning_rate = learning_rate\n",
    "        self.n_iterations = n_iterations\n",
    "        self.w = None\n",
    "        self.b = None\n",
    "\n",
    "    def fit(self, X, y):\n",
    "        m, n = X.shape\n",
    "        self.w = np.zeros(n)\n",
    "        self.b = 0\n",
    "\n",
    "        for _ in range(self.n_iterations):\n",
    "            y_pred = np.dot(X,self.w) + self.b # Cost Function (MSE): J(w,b) = (1/m)*(sum(yi - y_pred)**2)\n",
    "            error = y_pred - y # J(w,b) = (1/m)*(sum(yi - (wXi + b))**2)\n",
    "\n",
    "            dw = (1/m)*np.dot(X.T,error) # dJ/dw = -2(1/m)*(sum(yi - y_pred)*Xi)\n",
    "            db = (1/m)*np.sum(error)     # dJ/db = -2(1/m)*(sum(y - y_pred))\n",
    "\n",
    "            self.w -= self.learning_rate*dw\n",
    "            self.b -= self.learning_rate*db\n",
    "\n",
    "    def predict(self, X):\n",
    "        return np.dot(X,self.w) + self.b"
   ]
  },
  {
   "cell_type": "code",
   "execution_count": 33,
   "id": "9eb1ce23-6bba-4f1f-aa90-7e5b17a311a0",
   "metadata": {},
   "outputs": [],
   "source": [
    "X = np.array([[1, 1], [1, 2], [2, 2], [2, 3]])\n",
    "y = np.array([1, 2, 2, 3])"
   ]
  },
  {
   "cell_type": "code",
   "execution_count": 34,
   "id": "66525015-4259-4bc1-8595-b640b2a929b7",
   "metadata": {},
   "outputs": [],
   "source": [
    "model = LinearRegression(learning_rate=0.01,n_iterations=10000)"
   ]
  },
  {
   "cell_type": "code",
   "execution_count": 35,
   "id": "0273c076-6bc8-42de-b853-c503c7b43387",
   "metadata": {},
   "outputs": [],
   "source": [
    "model.fit(X,y)"
   ]
  },
  {
   "cell_type": "code",
   "execution_count": 36,
   "id": "caa71845-e036-48ec-a2eb-10a1535f186b",
   "metadata": {},
   "outputs": [],
   "source": [
    "predictions = model.predict(X)"
   ]
  },
  {
   "cell_type": "code",
   "execution_count": 37,
   "id": "691de754-5d48-463a-bca7-9395b0aa2120",
   "metadata": {},
   "outputs": [
    {
     "data": {
      "text/plain": [
       "array([0.99998773, 1.99997602, 2.00001819, 3.00000648])"
      ]
     },
     "execution_count": 37,
     "metadata": {},
     "output_type": "execute_result"
    }
   ],
   "source": [
    "predictions"
   ]
  },
  {
   "cell_type": "code",
   "execution_count": null,
   "id": "6b1ff624-338a-4599-9abe-0014397a90a4",
   "metadata": {},
   "outputs": [],
   "source": []
  }
 ],
 "metadata": {
  "kernelspec": {
   "display_name": "Python 3 (ipykernel)",
   "language": "python",
   "name": "python3"
  },
  "language_info": {
   "codemirror_mode": {
    "name": "ipython",
    "version": 3
   },
   "file_extension": ".py",
   "mimetype": "text/x-python",
   "name": "python",
   "nbconvert_exporter": "python",
   "pygments_lexer": "ipython3",
   "version": "3.10.13"
  }
 },
 "nbformat": 4,
 "nbformat_minor": 5
}
